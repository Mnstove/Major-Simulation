{
 "cells": [
  {
   "cell_type": "code",
   "execution_count": 125,
   "id": "5edfec10",
   "metadata": {},
   "outputs": [],
   "source": [
    "import numpy as np\n",
    "import pandas as pd"
   ]
  },
  {
   "cell_type": "code",
   "execution_count": 126,
   "id": "dcddd305",
   "metadata": {},
   "outputs": [],
   "source": [
    "data = pd.read_csv('ATL_daily_profit.csv')\n",
    "\n",
    "#Unifying naming conventions\n",
    "data.rename(columns = {\"Unnamed: 0\":\"DOW\", \"INBOUND FLIGHTS\":\"INBOUND_FLIGHTS\", \"OUTBOUND FLIGHTS\":\"OUTBOUND_FLIGHTS\"}, inplace = True)\n",
    "\n",
    "#naming convention confusing\n",
    "data.rename(columns = {\"AIRLINE_DELAY_REVENUE\": \"DAILY_DELAY_COST\"}, inplace = True)\n",
    " \n",
    "#Serve same function, creating less rows\n",
    "data['DAILY_DELAY_COST'] = data.loc[:, (['AIR_SYSTEM_DELAY_COST','DAILY_DELAY_COST', 'SECURITY_DELAY_COST'])].sum(axis = 1)\n",
    "data.drop(['AIR_SYSTEM_DELAY_COST','SECURITY_DELAY_COST'], axis = 1, inplace = True)\n",
    "\n",
    "#data.head(5)"
   ]
  },
  {
   "cell_type": "code",
   "execution_count": 127,
   "id": "00de9bc3",
   "metadata": {},
   "outputs": [],
   "source": [
    "#Creating a dictionary to create the Day Of Week (DOW) column, 0 = Thursday because 1/1/15 is on a Thursday\n",
    "weekday = {\n",
    "    0 : \"Thursday\",\n",
    "    1 : \"Friday\",\n",
    "    2 : \"Saturday\",\n",
    "    3 : \"Sunday\",\n",
    "    4 : \"Monday\",\n",
    "    5 : \"Tuesday\",\n",
    "    6 : \"Wendsday\"\n",
    "}\n",
    "\n",
    "#Creates column of the days of the week\n",
    "data['DOW'] = data['DOW'].apply(lambda x: weekday[x % 7]) \n",
    "#data.head(7)"
   ]
  },
  {
   "cell_type": "code",
   "execution_count": 130,
   "id": "9052526b",
   "metadata": {},
   "outputs": [
    {
     "name": "stderr",
     "output_type": "stream",
     "text": [
      "C:\\Users\\K\\AppData\\Local\\Temp\\ipykernel_4364\\2025899455.py:6: SettingWithCopyWarning: \n",
      "A value is trying to be set on a copy of a slice from a DataFrame.\n",
      "Try using .loc[row_indexer,col_indexer] = value instead\n",
      "\n",
      "See the caveats in the documentation: https://pandas.pydata.org/pandas-docs/stable/user_guide/indexing.html#returning-a-view-versus-a-copy\n",
      "  delay['DAILY_DELAY_LENGTH'] = data.loc[:,('AIR_SYSTEM_DELAY','SECURITY_DELAY','SECURITY_DELAY', 'AIRLINE_DELAY', 'LATE_AIRCRAFT_DELAY', 'WEATHER_DELAY')].sum(axis = 1)\n"
     ]
    },
    {
     "data": {
      "text/html": [
       "<div>\n",
       "<style scoped>\n",
       "    .dataframe tbody tr th:only-of-type {\n",
       "        vertical-align: middle;\n",
       "    }\n",
       "\n",
       "    .dataframe tbody tr th {\n",
       "        vertical-align: top;\n",
       "    }\n",
       "\n",
       "    .dataframe thead th {\n",
       "        text-align: right;\n",
       "    }\n",
       "</style>\n",
       "<table border=\"1\" class=\"dataframe\">\n",
       "  <thead>\n",
       "    <tr style=\"text-align: right;\">\n",
       "      <th></th>\n",
       "      <th>DOW</th>\n",
       "      <th>INBOUND_FLIGHTS</th>\n",
       "      <th>OUTBOUND_FLIGHTS</th>\n",
       "      <th>DAILY_DELAY_LENGTH</th>\n",
       "      <th>DAILY_DELAY_COST</th>\n",
       "      <th>PROFIT</th>\n",
       "    </tr>\n",
       "  </thead>\n",
       "  <tbody>\n",
       "    <tr>\n",
       "      <th>0</th>\n",
       "      <td>Thursday</td>\n",
       "      <td>702.0</td>\n",
       "      <td>738.0</td>\n",
       "      <td>2167.0</td>\n",
       "      <td>64141.95</td>\n",
       "      <td>3804466.77</td>\n",
       "    </tr>\n",
       "    <tr>\n",
       "      <th>1</th>\n",
       "      <td>Friday</td>\n",
       "      <td>1041.0</td>\n",
       "      <td>1038.0</td>\n",
       "      <td>9848.0</td>\n",
       "      <td>232357.15</td>\n",
       "      <td>5371834.37</td>\n",
       "    </tr>\n",
       "    <tr>\n",
       "      <th>2</th>\n",
       "      <td>Saturday</td>\n",
       "      <td>934.0</td>\n",
       "      <td>938.0</td>\n",
       "      <td>20159.0</td>\n",
       "      <td>445986.51</td>\n",
       "      <td>4895505.41</td>\n",
       "    </tr>\n",
       "    <tr>\n",
       "      <th>3</th>\n",
       "      <td>Sunday</td>\n",
       "      <td>1022.0</td>\n",
       "      <td>1016.0</td>\n",
       "      <td>23740.0</td>\n",
       "      <td>512668.65</td>\n",
       "      <td>5436891.89</td>\n",
       "    </tr>\n",
       "    <tr>\n",
       "      <th>4</th>\n",
       "      <td>Monday</td>\n",
       "      <td>998.0</td>\n",
       "      <td>1001.0</td>\n",
       "      <td>9631.0</td>\n",
       "      <td>244193.60</td>\n",
       "      <td>5258535.39</td>\n",
       "    </tr>\n",
       "  </tbody>\n",
       "</table>\n",
       "</div>"
      ],
      "text/plain": [
       "        DOW  INBOUND_FLIGHTS  OUTBOUND_FLIGHTS  DAILY_DELAY_LENGTH  \\\n",
       "0  Thursday            702.0             738.0              2167.0   \n",
       "1    Friday           1041.0            1038.0              9848.0   \n",
       "2  Saturday            934.0             938.0             20159.0   \n",
       "3    Sunday           1022.0            1016.0             23740.0   \n",
       "4    Monday            998.0            1001.0              9631.0   \n",
       "\n",
       "   DAILY_DELAY_COST      PROFIT  \n",
       "0          64141.95  3804466.77  \n",
       "1         232357.15  5371834.37  \n",
       "2         445986.51  4895505.41  \n",
       "3         512668.65  5436891.89  \n",
       "4         244193.60  5258535.39  "
      ]
     },
     "execution_count": 130,
     "metadata": {},
     "output_type": "execute_result"
    }
   ],
   "source": [
    "#creating new df for weekly and monthly cost and profit analysis\n",
    "delay = data[['DOW', 'INBOUND_FLIGHTS','OUTBOUND_FLIGHTS', 'DAILY_DELAY_COST', 'PROFIT']]\n",
    "\n",
    "#Sums all the daily delays to find the total length\n",
    "#Creates warning, false positive detection\n",
    "delay['DAILY_DELAY_LENGTH'] = data.loc[:,('AIR_SYSTEM_DELAY','SECURITY_DELAY','SECURITY_DELAY', 'AIRLINE_DELAY', 'LATE_AIRCRAFT_DELAY', 'WEATHER_DELAY')].sum(axis = 1)\n",
    "\n",
    "#Reorganizing the rows for more logical ordering\n",
    "delay = delay.loc[:, ['DOW', 'INBOUND_FLIGHTS', 'OUTBOUND_FLIGHTS', 'DAILY_DELAY_LENGTH', 'DAILY_DELAY_COST', 'PROFIT']]\n",
    "\n",
    "delay.head(5)"
   ]
  },
  {
   "cell_type": "code",
   "execution_count": 131,
   "id": "6d833e67",
   "metadata": {},
   "outputs": [],
   "source": [
    "delay.to_csv('Clean_ATL_Daily_Profit.csv')"
   ]
  }
 ],
 "metadata": {
  "kernelspec": {
   "display_name": "Python 3 (ipykernel)",
   "language": "python",
   "name": "python3"
  },
  "language_info": {
   "codemirror_mode": {
    "name": "ipython",
    "version": 3
   },
   "file_extension": ".py",
   "mimetype": "text/x-python",
   "name": "python",
   "nbconvert_exporter": "python",
   "pygments_lexer": "ipython3",
   "version": "3.9.12"
  }
 },
 "nbformat": 4,
 "nbformat_minor": 5
}
